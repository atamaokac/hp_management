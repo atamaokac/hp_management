{
 "cells": [
  {
   "cell_type": "markdown",
   "metadata": {},
   "source": [
    "[Google Colabで開く](https://colab.research.google.com/github/oumpy/hp_management/blob/master/content/articles/2018sy/Tech_archive/handai_math.ipynb)\n",
    "\n",
    "## なぜ入試数学をPythonで？？\n",
    "Pythonについていろいろ調べているうちに、なんとプログラミングで数学の問題が解ける！ということを知りました。\n",
    "\n",
    "コードの勉強にもなると思い、じゃあやってみよう！ということで、今回の記事に至りました。\n",
    "\n",
    "## どの問題を解くか？\n",
    "いろいろなサイトでPythonで入試数学を解く記事は見つかります。京大、東大、センター数学などなど。\n",
    "\n",
    "ですが、阪大数学を扱っているものはありませんでした。ならば、せっかくなので阪大数学を解こう！ということになりました。これには、自分の受けた試験を再び解く、というのもなんとなく感慨深かったことも理由としてあります。\n",
    "\n",
    "※なお、プログラミングで解くことを重視し、本来の数学的な厳密な議論は飛ばしているため、「入試の解答」とはかけ離れたものになります。以上ご了承ください。\n",
    "\n",
    "## 環境\n",
    "- `Python3.6.1`\n",
    "- `sympy`：sympyはPythonのライブラリの一つで、記号計算を行うものです。\n",
    "\n",
    "各問題共通のコードとして、sympyをインポートしておきます。"
   ]
  },
  {
   "cell_type": "code",
   "execution_count": null,
   "metadata": {},
   "outputs": [],
   "source": [
    "import sympy as sy"
   ]
  },
  {
   "cell_type": "markdown",
   "metadata": {},
   "source": [
    "## 大阪大学2018年 理系数学 第１問"
   ]
  },
  {
   "cell_type": "code",
   "execution_count": null,
   "metadata": {},
   "outputs": [],
   "source": [
    "![画像が表示されなかった時に表示される文字列]()"
   ]
  },
  {
   "cell_type": "markdown",
   "metadata": {},
   "source": [
    "### (1)\n",
    "\n",
    "#### 方針\n",
    "普通に解くなら、ｙ＝(真ん中)ー(左)、ｙ＝(右)ー(真ん中)、とおいて、\n",
    "微分\n",
    "→増減表\n",
    "→グラフ\n",
    "→ｘ＞０でｙ＞０\n",
    "という流れで示すのが一般的だと思いますが、sympyでは、簡単にグラフが書けるので、一気にグラフを描いて示します。"
   ]
  },
  {
   "cell_type": "code",
   "execution_count": null,
   "metadata": {},
   "outputs": [],
   "source": [
    "x = sy.symbols('x')"
   ]
  },
  {
   "cell_type": "markdown",
   "metadata": {},
   "source": [
    "変数`ｘ`を`symbols()`を用いて変数定義します"
   ]
  },
  {
   "cell_type": "code",
   "execution_count": null,
   "metadata": {},
   "outputs": [],
   "source": [
    "expr1 = x-x**2/2\n",
    "expr2 = sy.log(1+x)\n",
    "expr3 = x/sy.sqrt(1+x)"
   ]
  },
  {
   "cell_type": "code",
   "execution_count": null,
   "metadata": {},
   "outputs": [],
   "source": []
  },
  {
   "cell_type": "markdown",
   "metadata": {},
   "source": [
    "## 感想\n",
    "- 今回は時間の都合で大問１しか解けませんでしたが、今後他のものにも挑戦したいと思います。（第4問の空間図形とか3次元で難しそうですが…）\n",
    "- 僕はPythonの文法の勉強がまだ終わっていない状態での今回の記事でしたが、実際に簡単目なコマンドを実行してみる、というのはとても良い練習になり、今後の勉強の理解の助けになると思いました。Jupyterに慣れることができたのも良かったです。\n",
    "- （入試問題を見ていると、急に去年の受験時代が思い出され、良くも悪くも感傷に浸ってしまいます。去年のやる気に負けないようにしたい…！）\n",
    "- これからも頑張って勉強していきます！"
   ]
  }
 ],
 "metadata": {
  "kernelspec": {
   "display_name": "Python 3",
   "language": "python",
   "name": "python3"
  },
  "language_info": {
   "codemirror_mode": {
    "name": "ipython",
    "version": 3
   },
   "file_extension": ".py",
   "mimetype": "text/x-python",
   "name": "python",
   "nbconvert_exporter": "python",
   "pygments_lexer": "ipython3",
   "version": "3.7.6"
  }
 },
 "nbformat": 4,
 "nbformat_minor": 4
}
